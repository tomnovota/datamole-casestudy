{
 "cells": [
  {
   "cell_type": "code",
   "execution_count": null,
   "metadata": {},
   "outputs": [],
   "source": [
    "install.packages(\"readxl\")\n",
    "library(readxl)\n",
    "data <- read_excel(\"nazev_souboru.xlsx\", sheet = \"nazev_listu\")"
   ]
  },
  {
   "cell_type": "markdown",
   "metadata": {},
   "source": [
    "podle p-hodnoty se rozhodneš jestli zamítneš, když je menší než tvoje hladina významnosti(5% = 0.05), tak zamítáš"
   ]
  },
  {
   "cell_type": "markdown",
   "metadata": {},
   "source": [
    "2.2e-16 to znamená $2.2 \\cdot 10^{-16}$"
   ]
  },
  {
   "cell_type": "markdown",
   "metadata": {},
   "source": [
    "1. piva"
   ]
  },
  {
   "cell_type": "markdown",
   "metadata": {},
   "source": [
    "tento test testuje zda data pocházejí z rozdělení se střední hodnotou = 0, alternativa je to co chceme dokázat - že vrchní točí pod míru, tedy že je střední hodnota pod 0, pokud zamítneme $H_0$ ve prospěch alternativy, dokázali jsme, že střední hodnota je statisticky váznamně pod 0, tedy že točí pod míru"
   ]
  },
  {
   "cell_type": "code",
   "execution_count": null,
   "metadata": {},
   "outputs": [],
   "source": [
    "t.test(x=data, mu=0, alternative='lower') # alternative = greater/lower/vynechat"
   ]
  },
  {
   "cell_type": "markdown",
   "metadata": {},
   "source": [
    "2. hospody"
   ]
  },
  {
   "cell_type": "code",
   "execution_count": null,
   "metadata": {},
   "outputs": [],
   "source": [
    "t.test(hospoda1 ~ hospoda2, data=hospody)"
   ]
  },
  {
   "cell_type": "markdown",
   "metadata": {},
   "source": [
    "3. motyle"
   ]
  },
  {
   "cell_type": "code",
   "execution_count": null,
   "metadata": {},
   "outputs": [],
   "source": [
    "zavislost_abundance_na_rozloze = lm(abundance~rozloha, data=motyle)\n",
    "predikce_abundance_podle_modelu = predict(zavislost_abundance_na_rozloze, interval=\"prediction\")\n",
    "dataset_s_predikcemi = cbind(motely, predikce_abundance_podle_modelu)"
   ]
  },
  {
   "cell_type": "markdown",
   "metadata": {},
   "source": [
    "reziduál\n",
    "- chyba, predikce od reálné hodnoty \n",
    "- jak špatně model predikuje vysvětlovanou proměnnou oproti datům z datasetu\n",
    "- chceš aby medián byl 0\n",
    "\n",
    "koeficienty\n",
    "- číslo, kterým se násobí zbylé proměnné a tím odhadují hodnotu vysvětlované proměnné"
   ]
  },
  {
   "cell_type": "code",
   "execution_count": null,
   "metadata": {},
   "outputs": [],
   "source": [
    "summary(fit_lin)"
   ]
  },
  {
   "cell_type": "code",
   "execution_count": null,
   "metadata": {},
   "outputs": [],
   "source": [
    "p1 <- ggplot(df_lin, aes(x, y)) +\n",
    "        geom_point() +\n",
    "        stat_smooth(method=\"lm\", formula=y~x) +\n",
    "        geom_line(aes(y=lwr), color = \"red\", linetype = \"dashed\") +\n",
    "        geom_line(aes(y=upr), color = \"red\", linetype = \"dashed\") +\n",
    "        ylim(min(y), max(y))\n",
    "\n",
    "\n",
    "plot_grid(p1, p2, ncol=2)"
   ]
  },
  {
   "cell_type": "markdown",
   "metadata": {},
   "source": [
    "4. opice"
   ]
  },
  {
   "cell_type": "markdown",
   "metadata": {},
   "source": [
    "sloupcový graf - v každém sloupci počet opic co zvolilo způsob daný způsob(1,2,3)"
   ]
  },
  {
   "cell_type": "code",
   "execution_count": null,
   "metadata": {},
   "outputs": [],
   "source": []
  },
  {
   "cell_type": "markdown",
   "metadata": {},
   "source": []
  }
 ],
 "metadata": {
  "language_info": {
   "name": "python"
  }
 },
 "nbformat": 4,
 "nbformat_minor": 2
}
