{
 "cells": [
  {
   "cell_type": "code",
   "execution_count": 1,
   "metadata": {
    "vscode": {
     "languageId": "r"
    }
   },
   "outputs": [
    {
     "name": "stderr",
     "output_type": "stream",
     "text": [
      "\n",
      "Attaching package: ‘EnvStats’\n",
      "\n",
      "\n",
      "The following objects are masked from ‘package:stats’:\n",
      "\n",
      "    predict, predict.lm\n",
      "\n",
      "\n",
      "The following object is masked from ‘package:base’:\n",
      "\n",
      "    print.default\n",
      "\n",
      "\n"
     ]
    }
   ],
   "source": [
    "library(EnvStats)\n",
    "library(datarium)"
   ]
  },
  {
   "attachments": {},
   "cell_type": "markdown",
   "metadata": {},
   "source": [
    "# Statistické testy, kontingenční tabulky"
   ]
  },
  {
   "attachments": {},
   "cell_type": "markdown",
   "metadata": {},
   "source": [
    "**Obsah přednášky:**\n",
    "- důležitá rozdělení \n",
    "    - zavedeme multinomické rozdělení zobecněním Bernoulliho resp. binomického rozdělení\n",
    "- statistické testy\n",
    "    - princip testování hypotéz\n",
    "    - jednovýběrové testy (t test, $\\chi^2$ test rozptylu, Wilcoxonův znaménkový test)\n",
    "    - dvouvýběrové (t test, Welchův test, F test shody rozptylů, Mann-Whitney U test, Kolmogorov-Smirnov)\n",
    "    - párové (t test, Pitmanův-Morganův párový test)\n",
    "    - testy normality (Shapiro-Wilkův test, Kolmogorov-Smirnov, Jarque-Bera)\n",
    "- korelační koeficienty\n",
    "    - Pearson, Spearman\n",
    "- kontingenční tabulky\n",
    "    - matice pravděpodobnosti, kontingenční tabulka\n",
    "    - Pearsonův $\\chi^2$ test nezávislosti\n",
    "    - test shody multinomických rozdělení\n",
    "    - Fisherův faktoriálový (exaktní) test\n",
    "    - McNemarův test symetrie"
   ]
  },
  {
   "attachments": {},
   "cell_type": "markdown",
   "metadata": {},
   "source": [
    "---"
   ]
  },
  {
   "attachments": {},
   "cell_type": "markdown",
   "metadata": {},
   "source": [
    "## Důležitá rozdělení\n",
    "Abychom mohli pracovat s kontingenčními tabulkami, potřebujeme znát [multinomické rozdělení](https://en.wikipedia.org/wiki/Multinomial_distribution). Využijme znalosti z BI-PST.\n",
    "\n",
    "### [**Bernoulliho rozdělení**](https://en.wikipedia.org/wiki/Bernoulli_distribution)\n",
    "Buď $p\\in[0,1]$. Nechť náhodná veličina $X$ nabývá pouze hodnot $0$ a $1$ a to s pravděpodobnostmi $p$ a $1-p$.\n",
    "\n",
    "Pravděpodobnostní funkce takového rozdělení je\n",
    "\n",
    "$$\n",
    "\\operatorname{P}(X=x) = p^x (1-p)^{1-x}, \\quad x\\in\\{0,1\\}.\n",
    "$$\n",
    "\n",
    "Pak říkáme, že $X$ má Bernoulliho (též alternativní) rozdělení s parametrem $p$. Píšeme $X\\sim \\mathrm{Bernoulli}(p)$. Platí \n",
    "\n",
    "$$\n",
    "\\mathrm{E}X = p, \\qquad \\operatorname{Var}X = p(1-p).\n",
    "$$\n",
    "\n",
    "**Použití:** binární veličiny, typicky hod mincí nebo pokusy se závěry *úspěch-neúspěch*."
   ]
  },
  {
   "attachments": {},
   "cell_type": "markdown",
   "metadata": {},
   "source": [
    "### [**Kategorické rozdělení**](https://en.wikipedia.org/wiki/Categorical_distribution)\n",
    "Buď $\\mathbf{Y} = [Y_1,\\ldots,Y_K]$ náhodný vektor takový, že právě jedna jeho složka nabývá hodnoty 1 a ostatní 0. Dále buď $\\mathbf{p} = [p_1, \\ldots, p_K]$ vektor nezáporných čísel jejichž součet je jedna. Buď pravděpodobnostní funkce\n",
    "\n",
    "$$\n",
    "\\operatorname{P}(Y_1=y_1, \\ldots, Y_K=y_k) = p_1^{y_1} \\cdots p_K^{y_K}.\n",
    "$$\n",
    "\n",
    "Pak říkáme, že $\\mathbf{Y}$ má kategorické rozdělení s parametrem $\\mathbf{p}$. Píšeme $\\mathbf{Y}\\sim \\mathrm{Cat}(\\mathbf{p})$. Platí \n",
    "\n",
    "$$\n",
    "\\mathrm{E}Y_i = p_i, \\qquad \\operatorname{Var}Y_i = p_i(1-p_i), \\quad i=1,\\ldots,K.\n",
    "$$\n",
    "\n",
    "**Použití:** alternativa k Bernoulliho rozdělení při více možných výsledcích.\n",
    "\n",
    "**Úkol:** ukažte, že Bernoulliho rozdělení je speciální případ kategorického."
   ]
  },
  {
   "attachments": {},
   "cell_type": "markdown",
   "metadata": {},
   "source": [
    "### [**Binomické rozdělení**](https://en.wikipedia.org/wiki/Binomial_distribution)\n",
    "Buď $n\\in\\mathbb{N}$ a $p\\in(0,1)$. Dále buď $X$ náhodná veličina nabývající pouze hodnot z množiny $\\{0,1,\\ldots,n\\}$, a to s pravděpodobnostmi předepsanými pravděpodobnostní funkcí\n",
    "\n",
    "$$\n",
    "\\operatorname{P}(X=k) = \\binom{n}{k}p^k (1-p)^{n-k}, \\qquad k=0,1,\\ldots,n.\n",
    "$$\n",
    "\n",
    "Pak říkáme, že $X$ má binomické rozdělení s parametry $n$ a $p$. Píšeme $X\\sim \\mathrm{Bi}(n, p)$. Platí \n",
    "\n",
    "$$\n",
    "\\mathrm{E}X = np, \\qquad \\operatorname{Var}X = np(1-p).\n",
    "$$\n",
    "\n",
    "**Použití:** Binomické rozdělení popisuje výsledek $n$ Bernoulliho experimentů. Např. $n$ hodů mincí, kdy padne $k$-krát panna, $n$ pingů s $k$ úspěchy apod."
   ]
  },
  {
   "attachments": {},
   "cell_type": "markdown",
   "metadata": {},
   "source": [
    "### [**Multinomické rozdělení**](https://en.wikipedia.org/wiki/Multinomial_distribution)\n",
    "Buď $n\\in\\mathcal{N}$ a $\\mathbf{p} = [p_1, \\ldots, p_K]$ vektor nezáporných čísel jejichž součet je jedna. Uvažujme $\\mathbf{Y} = [Y_1,\\ldots,Y_K]$ náhodný vektor, jehož složky jsou nezáporná celá čísla a $Y_1 + \\ldots + Y_K = n$. Buď pravděpodobnostní funkce\n",
    "\n",
    "$$\n",
    "\\operatorname{P}(Y_1=y_1,\\ldots, Y_K=y_K) = \\frac{n!}{y_1! \\cdots y_K!} p_1^{y_1} \\cdots p_K^{y_K}.\n",
    "$$\n",
    "\n",
    "Pak říkáme, že $\\mathbf{Y}$ má multinomické rozdělení s parametrem $\\mathbf{p}$. Píšeme $\\mathbf{Y}\\sim \\mathrm{Multi}(\\mathbf{p})$. Platí \n",
    "\n",
    "$$\n",
    "\\mathrm{E}Y_i = np_i, \\qquad \\operatorname{Var}Y_i = np_i(1-p_i), \\qquad i=1,\\ldots,K.\n",
    "$$\n",
    "\n",
    "**Použití:** alternativa k binomickému rozdělení při více možných třídách/kategoriích výsledků. Jednotlivé složky odpovídají absolutním četnostem kategorií.\n",
    "\n",
    "**Úkol:** ukažte, že binomické rozdělení je speciální případ multinomického."
   ]
  },
  {
   "attachments": {},
   "cell_type": "markdown",
   "metadata": {},
   "source": [
    "---"
   ]
  },
  {
   "attachments": {},
   "cell_type": "markdown",
   "metadata": {},
   "source": [
    "# Testování hypotéz - recap BI-PST\n",
    "\n",
    "Předpokládejme náhodnou veličinu $X$, jejíž rozdělení závisí na neznámém parametru $\\theta\\in\\Omega$, kde $\\Omega \\subset \\mathbb{R}$. Máme testovat, zda $\\theta$ má hodnotu $\\theta_0\\in\\Omega$. Potom zavádíme:\n",
    "- $H_0: \\theta = \\theta_0$\n",
    "- $H_A: \\theta \\ne \\theta_0$\n",
    "    \n",
    "Test se provede následovně:\n",
    "- na základě náhodného výběru z $X$ najdeme kritický obor $W$\n",
    "- pokud $\\theta_0\\in W$, zamítneme $H_0$ ve prospěch $H_A$\n",
    "- pokud $\\theta_0\\notin W$, nezamítneme $H_0$\n",
    "\n",
    "|  | Platí $H_0$ | Platí $H_A$ |\n",
    "| --- | --- | --- |\n",
    "| Nezamítáme $H_0$ | <font color=\"green\">Správné rozhodnutí</font> | <font color=\"red\">Chyba 2. druhu</font> |\n",
    "| Zamítáme $H_0$ | <font color=\"red\">Chyba 1. druhu</font> | <font color=\"green\">Správné rozhodnutí</font> |\n",
    "\n",
    "Kritický obor se konstruuje tak, aby:\n",
    "- chyba 1. druhu byla nejvýše $\\alpha$, typicky 5% a méně (**hladina významnosti testu**),\n",
    "- chyba 2. druhu byla minimální ([Neyman-Pearsonovo lemma](https://en.wikipedia.org/wiki/Neyman%E2%80%93Pearson_lemma))\n",
    "\n",
    "Na BI-PST jsme namísto kritického oboru pracovali s **intervalem spolehlivosti** $\\Omega\\subset W$."
   ]
  },
  {
   "attachments": {},
   "cell_type": "markdown",
   "metadata": {},
   "source": [
    "### Příklad konstrukce testu: Z-test\n",
    "\n",
    "Buď $X_1, \\ldots, X_n$ náhodný výběr z $N(\\mu, \\sigma^2)$ kde $\\sigma^2>0$ je známý rozptyl. Máme testovat:\n",
    "- $H_0: \\mu = \\mu_0$\n",
    "- $H_A: \\mu \\ne \\mu_0$\n",
    "\n",
    "Hodnotu $\\mu$ odhadneme pomocí\n",
    "\n",
    "$$\n",
    "\\bar{X}_n = \\frac{1}{n} \\sum_{i=1}^n X_i.\n",
    "$$\n",
    "\n",
    "[Silný zákon velkých čísel](https://en.wikipedia.org/wiki/Law_of_large_numbers#Strong_law) zajišťuje konvergenci $\\bar{X}_n$ k střední hodnotě $\\mu$ pro $n\\to\\infty$. Bude-li $\\bar{X}_n$ daleko od $\\mu_0$, měl by test vést k zamítnutí nulové hypotézy. Kritický obor tedy bude vymezen vztahem\n",
    "\n",
    "$$\n",
    "|\\bar{X}_n - \\mu| \\geq c,\n",
    "$$\n",
    "\n",
    "kde $c$ taková konstanta, že\n",
    "\n",
    "$$\n",
    "\\alpha = \\mathrm{P}(|\\bar{X}_n - \\mu_0| \\geq c) = \n",
    "\\mathrm{P}\n",
    "\\left(\n",
    "\\frac{|\\bar{X}_n - \\mu_0|}\n",
    "     {\\frac{\\sigma}{\\sqrt{n}}}\n",
    "> \\frac{c}{\\frac{\\sigma}{\\sqrt{n}}}\n",
    "\\right)\n",
    "= \\mathrm{P}(|Z| \\geq z_{\\alpha/2}).\n",
    "$$\n",
    "\n",
    "Prakticky se test provede tak, že se vypočte **testová statistika** $Z = \\frac{|\\bar{X}_n - \\mu_0| \\sqrt{n}}{\\sigma}$ a $H_0$ zamítneme, pokud $|Z| \\geq z_{\\alpha/2}$. Oboustranný $(1-\\alpha)$% interval spolehlivosti dostaneme otočením nerovnosti ve vztahu výše,\n",
    "\n",
    "$$\n",
    "IS(\\mu, \\alpha) = \\left(\\bar{X}_n - \\frac{z_{\\alpha/2}\\sigma}{\\sqrt{n}}, \\bar{X}_n + \\frac{z_{\\alpha/2}\\sigma}{\\sqrt{n}} \\right).\n",
    "$$"
   ]
  },
  {
   "attachments": {},
   "cell_type": "markdown",
   "metadata": {},
   "source": [
    "### Pečlivě rozmyslete\n",
    "- jaký je vztah kritického oboru a intervalu spolehlivosti,\n",
    "- jaký je rozdíl mezi testováním hypotéz pomocí intervalu spolehlivosti (BI-PST) a pomocí testové statistiky (BI-PRS a všude jinde),\n",
    "- jak by se vše výše uvedené projevovalo na grafech hustoty."
   ]
  },
  {
   "attachments": {},
   "cell_type": "markdown",
   "metadata": {},
   "source": [
    "\n",
    "### Doslov\n",
    "\n",
    "V rámci *Praktická statistika* není možné se problematikou testování detailně zabývat. Některé detaily osvětlí časem jiné předměty (např. NI-VSM). Proto aspoň pár komentářů:\n",
    "1. Základy (frekventistického) testování hypotéz pochází z části od Fishera na straně jedné a z části od Neymana a Pearsona na straně druhé. Jejich teorie byly výrazně odlišné a řada statistiků si na výsledný mix stěžovala (např. Tukey).\n",
    "2. Uvedený způsob testování je **velmi citlivý na správnou interpretaci**!\n",
    "3. Nulovou hypotézu buď *zamítáme* (angl. *reject*), pokud data mluví statisticky významně (angl. jsou *significant*) v její neprospěch. V opačném případě *nezamítáme* (angl. *fail to reject*). Pokud $H_0$ zamítáme, můžeme tvrdit, že tak činíme ve prospěch $H_A$. Statistický test nám ale neumožňuje jakoukoliv hypotézu přijmout či akceptovat.\n",
    "4. Je třeba mít na paměti, že test typicky uvažuje určité vlastnosti modelu, např. normalitu, konečnost momentů apod.  Odchylky v tomto směru mohou mít dalekosáhlé následky.\n",
    "5. V praxi je určujícím ukazatelem pro (ne)zamítnutí typicky *p* hodnota. Ta vyjadřuje **pravděpodobnost, že při platnosti $H_0$ nabyde testová statistika stávající či extrémnější (pro $H_0$ nepříznivější) hodnoty.** Není to pravděpodobnost platnosti $H_0$. Pozor na [dezinterpretace](https://en.wikipedia.org/wiki/Misuse_of_p-values)!\n",
    "6. Pozor na úmyslné i neúmyslné [zneužívání statistiky](https://en.wikipedia.org/wiki/Misuse_of_statistics). Řadu fenoménů lze testovat různými testy s různými vlastnostmi (typicky silou). Často existují doporučení, který test vybrat. Je nepřijatelné zkoušet různé testy tak dlouho, dokud nenastane \"vytoužený\" výsledek!\n",
    "7. Existují i jiné metody, např. bayesovské. Ty mohou mít výrazně snazší [interpretaci](https://www.google.com/url?sa=t&rct=j&q=&esrc=s&source=web&cd=&ved=2ahUKEwiXqeKvkML9AhW1_rsIHXBqBBgQFnoECA4QAQ&url=https%3A%2F%2Fjkkweb.sitehost.iu.edu%2Farticles%2FKruschke2013JEPG.pdf&usg=AOvVaw06YZzXJJI2wZBiLFxYivnx), ale jde o úplně jinou filosofii."
   ]
  },
  {
   "attachments": {},
   "cell_type": "markdown",
   "metadata": {},
   "source": [
    "---\n",
    "## Jednovýběrové testy\n",
    "\n",
    "V následujícím výkladu budeme systematicky používat dataset `sleep`, který je součástí R. Jeho popis z nápovědy:\n",
    "> Data which show the effect of two soporific drugs (increase in hours of sleep compared to control) on 10 patients.\n",
    "\n",
    "Pro jednovýběrové testy si vybereme jen data s `group==1`."
   ]
  },
  {
   "cell_type": "code",
   "execution_count": 2,
   "metadata": {
    "vscode": {
     "languageId": "r"
    }
   },
   "outputs": [
    {
     "name": "stdout",
     "output_type": "stream",
     "text": [
      "   extra group ID\n",
      "1    0.7     1  1\n",
      "2   -1.6     1  2\n",
      "3   -0.2     1  3\n",
      "4   -1.2     1  4\n",
      "5   -0.1     1  5\n",
      "6    3.4     1  6\n",
      "7    3.7     1  7\n",
      "8    0.8     1  8\n",
      "9    0.0     1  9\n",
      "10   2.0     1 10\n"
     ]
    }
   ],
   "source": [
    "data <- subset(sleep, sleep$group==1)\n",
    "print(data)"
   ]
  },
  {
   "attachments": {},
   "cell_type": "markdown",
   "metadata": {},
   "source": [
    "### [Jednovýběrový t test](https://en.wikipedia.org/wiki/Student%27s_t-test#One-sample_t-test)\n",
    "\n",
    "Buď dán iid náhodný výběr $X_1, \\ldots, X_n \\sim N(\\mu, \\sigma^2)$ kde $\\sigma^2>0$ a $n\\geq 2$, kde $\\mu$ a $\\sigma^2$ jsou neznámé parametry. Máme testovat hypotézu, zda je $\\mu$ rovno nějakému číslu $\\mu_0$ oproti alternativě, že není,\n",
    "\n",
    "- $H_0$: $\\mu = \\mu_0$\n",
    "- $H_A$: $\\mu \\ne \\mu_0$\n",
    "\n",
    "Test je založen na statistice\n",
    "\n",
    "$$\n",
    "T = \\frac{\\bar{X}_n - \\mu_0}{s_n} \\sqrt{n}.\n",
    "$$\n",
    "\n",
    "Pokud $|T| \\geq t_{n-1}(\\alpha/2)$, nulovou hypotézu zamítneme."
   ]
  },
  {
   "attachments": {},
   "cell_type": "markdown",
   "metadata": {},
   "source": [
    "Otestujme, zda střední hodnota u první skupiny je rovna 0 (tj. $\\mu_0=0$):"
   ]
  },
  {
   "cell_type": "code",
   "execution_count": 3,
   "metadata": {
    "vscode": {
     "languageId": "r"
    }
   },
   "outputs": [
    {
     "data": {
      "text/plain": [
       "\n",
       "\tOne Sample t-test\n",
       "\n",
       "data:  data$extra\n",
       "t = 1.3257, df = 9, p-value = 0.2176\n",
       "alternative hypothesis: true mean is not equal to 0\n",
       "95 percent confidence interval:\n",
       " -0.5297804  2.0297804\n",
       "sample estimates:\n",
       "mean of x \n",
       "     0.75 \n"
      ]
     },
     "metadata": {},
     "output_type": "display_data"
    }
   ],
   "source": [
    "t.test(x=data$extra, mu=0)"
   ]
  },
  {
   "attachments": {},
   "cell_type": "markdown",
   "metadata": {},
   "source": [
    "R nám vrátilo hodnotu testové statistiky (`t`), stupňů volnosti (`df`) a p-hodnotu. Dále zopakovalo alternativu (poznáme stranovost), vypsalo příslušný interval spolehlivosti pro $\\mu$ a bodový odhad (průměr). Na základě p-hodnoty můžeme rozhodnout, že nulovou hypotézu na standardní hladině významnosti 5% **nezamítneme** (p-hodnota je větší než 0.05).\n",
    "\n",
    "Obdobně můžeme testovat pravostrannou variantu, tj. oproti alternativě, že střední hodnota je větší než nějaké číslo $\\mu_0$.\n",
    "\n",
    "- $H_0$: $\\mu = \\mu_0$\n",
    "- $H_A$: $\\mu > \\mu_0$\n",
    "\n",
    "Testová statistika se nezmění. Jde nyní o pravostranný test, $H_0$ zamítneme, pokud $T \\geq t_{n-1}(\\alpha)$ (<font color='red'>Zdůvodněte!</font>).\n",
    "\n",
    "Použijme stejná data, testujme opět hodnotu $\\mu_0 = 0$:"
   ]
  },
  {
   "cell_type": "code",
   "execution_count": 4,
   "metadata": {
    "vscode": {
     "languageId": "r"
    }
   },
   "outputs": [
    {
     "data": {
      "text/plain": [
       "\n",
       "\tOne Sample t-test\n",
       "\n",
       "data:  data$extra\n",
       "t = 1.3257, df = 9, p-value = 0.1088\n",
       "alternative hypothesis: true mean is greater than 0\n",
       "95 percent confidence interval:\n",
       " -0.2870553        Inf\n",
       "sample estimates:\n",
       "mean of x \n",
       "     0.75 \n"
      ]
     },
     "metadata": {},
     "output_type": "display_data"
    }
   ],
   "source": [
    "t.test(x=data$extra, mu=0, alternative='greater')"
   ]
  },
  {
   "attachments": {},
   "cell_type": "markdown",
   "metadata": {},
   "source": [
    "Ani teď na hladině 5% nulovou hypotézu nezamítáme."
   ]
  },
  {
   "attachments": {},
   "cell_type": "markdown",
   "metadata": {},
   "source": [
    "### [$\\chi^2$ test rozptylu normálního rozdělení](https://en.wikipedia.org/wiki/Chi-squared_test#Pearson's_chi-squared_test) [[R link]](https://search.r-project.org/CRAN/refmans/EnvStats/html/varTest.html)\n",
    "\n",
    "Buď dán iid náhodný výběr $X_1, \\ldots, X_n \\sim N(\\mu, \\sigma^2)$ kde $\\sigma^2>0$ a $n\\geq 2$, kde $\\mu$ a $\\sigma^2$ jsou neznámé parametry. Máme testovat hypotézu, zda je $\\sigma^2$ rovno nějakému číslu $\\sigma_0^2$ oproti alternativě, že není,\n",
    "\n",
    "- $H_0$: $\\sigma^2 = \\sigma_0^2$\n",
    "- $H_A$: $\\sigma^2 \\ne \\sigma_0^2$ (alternativně jednostrannou)\n",
    "\n",
    "Tento test je velmi citlivý na odchylky od normality!\n",
    "\n",
    "Test je založen na $\\chi^2$ statistice. Nosič (support) hustoty je kladná reálná poloosa a rozdělení není symetrické. V důsledku toho má testová statistika různou podobu pro levostranný, oboustranný a pravostranný test a je snazší posuzovat přítomnost testované hodnoty v příslušném intervalu spolehlivosti (viz BI-PST)."
   ]
  },
  {
   "attachments": {},
   "cell_type": "markdown",
   "metadata": {},
   "source": [
    "Otestujme, zda je rozptyl u první skupiny rovnen 1.5 (tj. $\\sigma_0^2=1.5$):"
   ]
  },
  {
   "cell_type": "code",
   "execution_count": 5,
   "metadata": {
    "vscode": {
     "languageId": "r"
    }
   },
   "outputs": [
    {
     "data": {
      "text/plain": [
       "$statistic\n",
       "Chi-Squared \n",
       "   19.20333 \n",
       "\n",
       "$parameters\n",
       "df \n",
       " 9 \n",
       "\n",
       "$p.value\n",
       "[1] 0.04703689\n",
       "\n",
       "$estimate\n",
       "variance \n",
       "3.200556 \n",
       "\n",
       "$null.value\n",
       "variance \n",
       "     1.5 \n",
       "\n",
       "$alternative\n",
       "[1] \"two.sided\"\n",
       "\n",
       "$method\n",
       "[1] \"Chi-Squared Test on Variance\"\n",
       "\n",
       "$data.name\n",
       "[1] \"data$extra\"\n",
       "\n",
       "$conf.int\n",
       "      LCL       UCL \n",
       " 1.514238 10.666980 \n",
       "attr(,\"conf.level\")\n",
       "[1] 0.95\n",
       "\n",
       "attr(,\"class\")\n",
       "[1] \"htestEnvStats\""
      ]
     },
     "metadata": {},
     "output_type": "display_data"
    }
   ],
   "source": [
    "varTest(x=data$extra, sigma.squared=1.5)"
   ]
  },
  {
   "attachments": {},
   "cell_type": "markdown",
   "metadata": {},
   "source": [
    "Na standardní hladině významnosti 5% zamítáme nulovou hypotézu (p-hodnota je menší než 0.05). Podobně bychom mohli provést i jednostranné testy."
   ]
  },
  {
   "attachments": {},
   "cell_type": "markdown",
   "metadata": {},
   "source": [
    "### [Jednovýběrový Wilcoxonův znaménkový test](https://en.wikipedia.org/wiki/Wilcoxon_signed-rank_test#One-sample_test) [[R link]](https://www.rdocumentation.org/packages/stats/versions/3.6.2/topics/wilcox.test)\n",
    "\n",
    "Buď $X_1, \\ldots, X_n$ náhodný výběr ze spojitého rozdělení symetrického okolo mediánu $\\tilde{x}$. Testujeme hypotézu\n",
    "- $H_0$: $\\tilde{x} = x_0$\n",
    "- $H_A$: $\\tilde{x} \\ne x_0$ (alternativně jednostrannou)\n",
    "\n",
    "Zamítnutí $H_0$ může nastat, pokud je medián významně odlišný od $x_0$, ale i pokud je rozdělení výrazně nesymetrické. Tento test je populárním příkladem neparametrického testu. Bez detailů uveďme, že je založen na analýze rozložení dat okolo testované hodnoty $x_0$. Pokud je rozdělení dostatečně symetrické a $x_0$ má být mediánem, potom musí být dostatečně blízko středu dat.\n",
    "\n",
    "Otestujme, zda mají naše data medián -1 oproti alternativě, že medián je větší:"
   ]
  },
  {
   "cell_type": "code",
   "execution_count": 6,
   "metadata": {
    "vscode": {
     "languageId": "r"
    }
   },
   "outputs": [
    {
     "data": {
      "text/plain": [
       "\n",
       "\tWilcoxon signed rank exact test\n",
       "\n",
       "data:  data$extra\n",
       "V = 52, p-value = 0.004883\n",
       "alternative hypothesis: true location is greater than -1\n"
      ]
     },
     "metadata": {},
     "output_type": "display_data"
    }
   ],
   "source": [
    "wilcox.test(x=data$extra, mu=-1, alternative='greater')"
   ]
  },
  {
   "attachments": {},
   "cell_type": "markdown",
   "metadata": {},
   "source": [
    "Na standardní hladině významnosti zamítáme $H_0$. \n",
    "*Pozn.: zamítali bychom i na hladině 1%.*"
   ]
  },
  {
   "attachments": {},
   "cell_type": "markdown",
   "metadata": {},
   "source": [
    "---\n",
    "## Dvouvýběrové testy\n",
    "\n",
    "Uvažujme dva náhodné výběry:\n",
    "- $X_1, \\ldots, X_m$,\n",
    "- $Y_1, \\ldots, Y_n$.\n",
    "\n",
    "Předpokládejme, že každý z nich je nezávislý (iid) a že oba jsou i nezávislé navzájem, $X_i \\perp\\mkern-15mu\\perp Y_j$ pro všechna $i=1,\\ldots,m$ a všechna $j=1,\\ldots, n$. Dvouvýběrové testy se zpravidla zaměřují na testování shody středních hodnot, rozptylů či mediánů. Podle toho mají i specifické předpoklady."
   ]
  },
  {
   "attachments": {},
   "cell_type": "markdown",
   "metadata": {},
   "source": [
    "### [Dvouvýběrový t test](https://en.wikipedia.org/wiki/Student%27s_t-test#Independent_two-sample_t-test) a [Welchův test](https://en.wikipedia.org/wiki/Welch%27s_t-test)\n",
    "\n",
    "Označme $\\mu_X$ a $\\mu_Y$ střední hodnoty příslušných výběrů. Oba testy testují hypotézy\n",
    "\n",
    "- $H_0$: $\\mu_X = \\mu_Y$\n",
    "- $H_A$: $\\mu_X \\ne \\mu_Y$ (alternativně jednostrannou).\n",
    "\n",
    "Dvouvýběrový t test předpokládá, že výběry jsou z normálních rozdělení o stejných rozptylech, přičemž první podmínku můžeme otestovat nějakým testem normality a druhou F testem (viz níže). Alternativně lze použít Welchův t test, který rovněž předpokládá normalitu obou výběrů, nicméně předpoklad shody rozptylů nemá. Funkce `t.test()` obsahuje testy oba, přepínat mezi nimi můžeme pomocí parametru `var.equal`."
   ]
  },
  {
   "cell_type": "code",
   "execution_count": 7,
   "metadata": {
    "vscode": {
     "languageId": "r"
    }
   },
   "outputs": [
    {
     "data": {
      "text/html": [
       "<table class=\"dataframe\">\n",
       "<caption>A tibble: 4 × 3</caption>\n",
       "<thead>\n",
       "\t<tr><th></th><th scope=col>id</th><th scope=col>group</th><th scope=col>weight</th></tr>\n",
       "\t<tr><th></th><th scope=col>&lt;fct&gt;</th><th scope=col>&lt;fct&gt;</th><th scope=col>&lt;dbl&gt;</th></tr>\n",
       "</thead>\n",
       "<tbody>\n",
       "\t<tr><th scope=row>1</th><td>1 </td><td>F</td><td>61.58587</td></tr>\n",
       "\t<tr><th scope=row>2</th><td>2 </td><td>F</td><td>64.55486</td></tr>\n",
       "\t<tr><th scope=row>39</th><td>39</td><td>M</td><td>87.38138</td></tr>\n",
       "\t<tr><th scope=row>40</th><td>40</td><td>M</td><td>86.43756</td></tr>\n",
       "</tbody>\n",
       "</table>\n"
      ],
      "text/latex": [
       "A tibble: 4 × 3\n",
       "\\begin{tabular}{r|lll}\n",
       "  & id & group & weight\\\\\n",
       "  & <fct> & <fct> & <dbl>\\\\\n",
       "\\hline\n",
       "\t1 & 1  & F & 61.58587\\\\\n",
       "\t2 & 2  & F & 64.55486\\\\\n",
       "\t39 & 39 & M & 87.38138\\\\\n",
       "\t40 & 40 & M & 86.43756\\\\\n",
       "\\end{tabular}\n"
      ],
      "text/markdown": [
       "\n",
       "A tibble: 4 × 3\n",
       "\n",
       "| <!--/--> | id &lt;fct&gt; | group &lt;fct&gt; | weight &lt;dbl&gt; |\n",
       "|---|---|---|---|\n",
       "| 1 | 1  | F | 61.58587 |\n",
       "| 2 | 2  | F | 64.55486 |\n",
       "| 39 | 39 | M | 87.38138 |\n",
       "| 40 | 40 | M | 86.43756 |\n",
       "\n"
      ],
      "text/plain": [
       "   id group weight  \n",
       "1  1  F     61.58587\n",
       "2  2  F     64.55486\n",
       "39 39 M     87.38138\n",
       "40 40 M     86.43756"
      ]
     },
     "metadata": {},
     "output_type": "display_data"
    },
    {
     "data": {
      "text/plain": [
       "\n",
       "\tTwo Sample t-test\n",
       "\n",
       "data:  weight by group\n",
       "t = -20.791, df = 38, p-value < 2.2e-16\n",
       "alternative hypothesis: true difference in means between group F and group M is not equal to 0\n",
       "95 percent confidence interval:\n",
       " -24.50140 -20.15349\n",
       "sample estimates:\n",
       "mean in group F mean in group M \n",
       "       63.49867        85.82612 \n"
      ]
     },
     "metadata": {},
     "output_type": "display_data"
    }
   ],
   "source": [
    "genderweight[c(1,2,39,40),]\n",
    "t.test(weight ~ group, data=genderweight, var.equal=T)"
   ]
  },
  {
   "attachments": {},
   "cell_type": "markdown",
   "metadata": {},
   "source": [
    "Test vrací hodnotu testové statistiky $t$, stupně volnosti a p-hodnotu. Za povšimnutí stojí znění alternativní hypotézy - test je totiž o něco obecnější, než je uvedeno v hypotézách výše, a lze jej použít na otestování velikosti rozdílu středních hodnot. To je ale za hranicí našeho předmětu. Stejně tak fakt, že t testů pro neshodné  rozptyly existuje víc. Každopádně se doporučuje vybírat mezi **základním t testem či alternativou připouštějící nestejné rozptyly** až na základě testu shody rozptylů."
   ]
  },
  {
   "attachments": {},
   "cell_type": "markdown",
   "metadata": {},
   "source": [
    "### F-test shody rozptylů\n",
    "\n",
    "F test shody rozptylů předpokládá, že oba výběry jsou z normálního rozdělení s kladnými rozptyly $\\sigma_X^2$ a $\\sigma_Y^2$. Jeho hypotézy jsou\n",
    "\n",
    "- $H_0$: $\\sigma_X^2 = \\sigma_Y^2$\n",
    "- $H_A$: $\\sigma_X^2 \\ne \\sigma_Y^2$ (alternativně jednostrannou)\n",
    "\n",
    "Nulová hypotéza se zamítne, pokud\n",
    "\n",
    "$$\n",
    "\\frac{S_X^2}{S_Y^2} \\geq F_{m-1,n-1}\\left(\\alpha/2\\right),\n",
    "$$\n",
    "\n",
    "kde značení $X$ a $Y$ se případně prohodí tak, aby zlomek měl hodnotu větší 1. $F_{m-1,n-1}(\\alpha/2)$ je kritická hodnota [Fisherova-Snedecorova F rozdělení](https://en.wikipedia.org/wiki/F-distribution) s $(m-1)$ a $(n-1)$ stupni volnosti.\n",
    "\n",
    "Tento test typicky použijeme, pokud se chceme přesvědčit o vhodnosti dvouvýběrového t testu, nebo pokud zjišťujeme, zda nějaká nově vyvíjená metoda či proces nemá větší rozptyl výsledků. Test je poměrně citlivý na odchylky od normality výběrů, je tedy vhodné normalitu ověřit (Shapirovým-Wilkovým testem, prostřednictvím Q-Q plotu apod.)."
   ]
  },
  {
   "cell_type": "code",
   "execution_count": 8,
   "metadata": {
    "vscode": {
     "languageId": "r"
    }
   },
   "outputs": [
    {
     "data": {
      "text/plain": [
       "\n",
       "\tF test to compare two variances\n",
       "\n",
       "data:  weight by group\n",
       "F = 0.21692, num df = 19, denom df = 19, p-value = 0.001648\n",
       "alternative hypothesis: true ratio of variances is not equal to 1\n",
       "95 percent confidence interval:\n",
       " 0.08585766 0.54802553\n",
       "sample estimates:\n",
       "ratio of variances \n",
       "         0.2169152 \n"
      ]
     },
     "metadata": {},
     "output_type": "display_data"
    }
   ],
   "source": [
    "var.test(weight ~ group, data=genderweight)"
   ]
  },
  {
   "attachments": {},
   "cell_type": "markdown",
   "metadata": {},
   "source": [
    "Nulovou hypotézu o shodě rozptylů můžeme zřejmě na daném datasetu a standardní hladině významnosti zamítnout."
   ]
  },
  {
   "attachments": {},
   "cell_type": "markdown",
   "metadata": {},
   "source": [
    "### [Mannův-Whitneyúv U test](https://en.wikipedia.org/wiki/Mann%E2%80%93Whitney_U_test) [[R link]](https://www.rdocumentation.org/packages/stats/versions/3.6.2/topics/wilcox.test)\n",
    "\n",
    "Předpokládáme, že oba výběry pocházejí ze spojitých rozdělení s distribučními funkcemi $F$ a $G$. Testujeme hypotézu\n",
    "\n",
    "- $H_0$: $F=G$\n",
    "- $H_A$: $F\\ne G$\n",
    "\n",
    "Jde tedy o test shody distribucí. Mannův-Whitneyúv test, též dvouvýběrový Wilcoxonův test, je neparametrický test. Je poněkud citlivý na posunutí, tj. případ $G(x) = F(x-\\delta), \\delta>0$, větší odchylky v tvaru či rozptylu. V tom případě je lepší zvolit např. Kolmogorovovův-Smirnovův (KS) test."
   ]
  },
  {
   "cell_type": "code",
   "execution_count": 9,
   "metadata": {
    "vscode": {
     "languageId": "r"
    }
   },
   "outputs": [
    {
     "data": {
      "text/plain": [
       "\n",
       "\tWilcoxon rank sum exact test\n",
       "\n",
       "data:  weight by group\n",
       "W = 0, p-value = 1.451e-11\n",
       "alternative hypothesis: true location shift is not equal to 0\n"
      ]
     },
     "metadata": {},
     "output_type": "display_data"
    }
   ],
   "source": [
    "wilcox.test(weight ~ group, data=genderweight)"
   ]
  },
  {
   "attachments": {},
   "cell_type": "markdown",
   "metadata": {},
   "source": [
    "### [Kolmogorovovův-Smirnovův dvouvýběrový test](https://en.wikipedia.org/wiki/Kolmogorov%E2%80%93Smirnov_test#Two-sample_Kolmogorov%E2%80%93Smirnov_test) [[R link]](https://www.rdocumentation.org/packages/stats/versions/3.6.2/topics/ks.test)\n",
    "\n",
    "Předpokládáme, že oba výběry pocházejí ze spojitých rozdělení s distribučními funkcemi $F$ a $G$. Testujeme hypotézu\n",
    "\n",
    "- $H_0$: $F=G$\n",
    "- $H_A$: $F\\ne G$\n",
    "\n",
    "KS test porovnává empirické distribuční funkce obou rozdělení. Při platnosti nulové hypotézy nemá mezi nimi být statisticky významný rozdíl. S tímto testem se potkáme ještě u testů normality."
   ]
  },
  {
   "cell_type": "code",
   "execution_count": 11,
   "metadata": {
    "vscode": {
     "languageId": "r"
    }
   },
   "outputs": [
    {
     "name": "stderr",
     "output_type": "stream",
     "text": [
      "Warning message in is.na(x):\n",
      "“is.na() applied to non-(list or vector) of type 'language'”\n"
     ]
    },
    {
     "ename": "ERROR",
     "evalue": "Error in ks.test(weight ~ group, data = genderweight): argument \"y\" is missing, with no default\n",
     "output_type": "error",
     "traceback": [
      "Error in ks.test(weight ~ group, data = genderweight): argument \"y\" is missing, with no default\nTraceback:\n",
      "1. ks.test(weight ~ group, data = genderweight)"
     ]
    }
   ],
   "source": [
    "ks.test(weight ~ group, data=genderweight)"
   ]
  },
  {
   "attachments": {},
   "cell_type": "markdown",
   "metadata": {},
   "source": [
    "---\n",
    "## Párové testy\n",
    "\n",
    "V praxi se lze poměrně často potkat s dvojicemi veličin\n",
    "\n",
    "$$\n",
    "\\begin{pmatrix}\n",
    "X_1 \\\\ Y_1\n",
    "\\end{pmatrix}, \\ldots,\n",
    "\\begin{pmatrix}\n",
    "X_n \\\\ Y_n\n",
    "\\end{pmatrix},\n",
    "$$\n",
    "\n",
    "kde jednotlivé složky vektorů nejsou nezávislé, ale jednotlivé vektory už ano. Složky vektorů typicky popisují vlastnosti jednoho objektu (např. levé oko-pravé oko téhož pacienta, stav pacienta před terapií-po terapii). Vektory potom představují různé objekty (zde pacienty).\n",
    "\n",
    "Párové testy ověřují, zda je mezi jednotlivými veličinami vektoru statisticky významný rozdíl. Obecně jsou založeny na veličinách\n",
    "\n",
    "$$\n",
    "Z_i = X_i - Y_i.\n",
    "$$\n",
    "\n",
    "Veličiny $Z_i$ potom testujeme běžnými jednovýběrovými testy, např. zda je střední hodnota, variance nebo medián roven nule.\n",
    "\n",
    "Pozn.: [PairedData R package](https://www.rdocumentation.org/packages/PairedData/versions/0.9.1)"
   ]
  },
  {
   "cell_type": "code",
   "execution_count": null,
   "metadata": {
    "vscode": {
     "languageId": "r"
    }
   },
   "outputs": [],
   "source": [
    "library(PairedData)\n",
    "data(\"mice2\")\n",
    "mice2"
   ]
  },
  {
   "attachments": {},
   "cell_type": "markdown",
   "metadata": {},
   "source": [
    "### [Párový t test](https://en.wikipedia.org/wiki/Student%27s_t-test#Dependent_t-test_for_paired_samples)\n",
    "\n",
    "Pokud jsou $Z_i$ normálně rozdělená s kladným rozptylem, testujeme hypotézy\n",
    "\n",
    "- $H_0: \\operatorname{E}\\!Z = \\mu_Z$\n",
    "- $H_A: \\operatorname{E}\\!Z \\ne \\mu_Z$\n",
    "\n",
    "Jelikož $\\operatorname{E}Z = \\operatorname{E}X - \\operatorname{E}Y$, odpovídá nulová hypotéza při testování $\\mu_Z=0$ hypotéze $\\operatorname{E}X = \\operatorname{E}Y$. To je také nejběžněji prováděný test.\n",
    "\n",
    "Výše uvedený test odpovídá jednovýběrovému t testu. Párovým jej nazýváme z důvodu principu jeho vzniku."
   ]
  },
  {
   "cell_type": "code",
   "execution_count": null,
   "metadata": {
    "vscode": {
     "languageId": "r"
    }
   },
   "outputs": [],
   "source": [
    "t.test(mice2$before, mice2$after, data=sleep, paired=T)"
   ]
  },
  {
   "attachments": {},
   "cell_type": "markdown",
   "metadata": {},
   "source": [
    "### Pitmanův-Morganův test [[R link]](https://www.rdocumentation.org/packages/PairedData/versions/0.9.1/topics/pitman.morgan.test)"
   ]
  },
  {
   "attachments": {},
   "cell_type": "markdown",
   "metadata": {},
   "source": [
    "Jsou-li $Z_i$ normálně rozdělené veličiny, testujeme\n",
    "\n",
    "- $H_0: \\sigma_Z^2 = 0$\n",
    "- $H_A: \\sigma_Z^2 \\ne 0$\n",
    "\n",
    "To odpovídá nulové hypotéza $\\sigma_X^2 = \\sigma_Y^2$.\n",
    "\n",
    "Výše uvedený test odpovídá jednovýběrovému testu rozptylu. Párovým jej nazýváme z důvodu principu jeho vzniku."
   ]
  },
  {
   "cell_type": "code",
   "execution_count": null,
   "metadata": {
    "vscode": {
     "languageId": "r"
    }
   },
   "outputs": [],
   "source": [
    "#pitman.morgan.test.default\n",
    "Var.test(x=mice2$before, y=mice2$after, paired=T)"
   ]
  },
  {
   "attachments": {},
   "cell_type": "markdown",
   "metadata": {},
   "source": [
    "---\n",
    "## Porovnávání několika výběrů\n",
    "\n",
    "Porovnávání několika výběrů bude součástí pozdějších přednášek na ANOVU."
   ]
  },
  {
   "attachments": {},
   "cell_type": "markdown",
   "metadata": {},
   "source": [
    "---"
   ]
  },
  {
   "attachments": {},
   "cell_type": "markdown",
   "metadata": {},
   "source": [
    "## Testy korelačních koeficientů\n",
    "\n",
    "### [Pearsonův lineární korelační koeficient](https://en.wikipedia.org/wiki/Pearson_correlation_coefficient)\n",
    "\n",
    "Buď $[X_1, Y_1]^\\intercal, \\ldots, [X_n, Y_n]^\\intercal$ náhodný výběr z dvojrozměrného rozdělení. Označme výběrovou kovarianci $s_{xy}$ a dále výběrové rozptyly jednotlivých veličin $s_{X}^2$ a $s_{Y}^2$. Oba rozptyly budiž kladné. Výběrový Pearsonův (lineární) korelační koeficient je definován\n",
    "\n",
    "$$\n",
    "r = r_{XY} = \\frac{s_{xy}}{\\sqrt{s_{X}^2 s_{Y}^2}}.\n",
    "$$\n",
    "\n",
    "Rozsah hodnot a interpretace by měly být již zažité!\n",
    "\n",
    "Často se zabýváme testem nulovosti (populačního!) Pearsonova korelačního koeficientu $\\rho$ na základě výběru. Hypotézy typicky zní\n",
    "\n",
    "- $H_0: \\rho = 0$\n",
    "- $H_A: \\rho \\ne 0$ (alternativně jednostranná varianta)\n",
    "\n",
    "Za předpokladu normality výběru spočítáme testovou statistiku\n",
    "\n",
    "$$\n",
    "T = \\frac{r}{1-r^2} \\sqrt{n-1}\n",
    "$$\n",
    "\n",
    "a nulovou hypotézu zamítneme, pokud $|T| \\geq t_{n-2}(\\alpha/2)$. Test je totožný s testem hypotézy $\\beta=0$ v lineárním regresním modelu $Y_i = \\alpha + \\beta x_i + \\varepsilon_i$ (zdůvodněte!)."
   ]
  },
  {
   "cell_type": "code",
   "execution_count": null,
   "metadata": {
    "vscode": {
     "languageId": "r"
    }
   },
   "outputs": [],
   "source": [
    "cor(B201, B211, method='pearson')\n",
    "cor.test(B201, B211, method='pearson')"
   ]
  },
  {
   "attachments": {},
   "cell_type": "markdown",
   "metadata": {},
   "source": [
    "### [Spearmanův pořadový korelační koeficient](https://en.wikipedia.org/wiki/Spearman%27s_rank_correlation_coefficient)\n",
    "\n",
    "Spearmanův korelační koeficient je neparametrickou alternativou vhodnou zejména při porušení předpokladu normality výběru. Je postaven na vyšetření shody pořadí uspořádaných hodnot obou výběrů.\n",
    "\n",
    "Uvažujme stejné značení jako v předchozím případě. Označme \n",
    "- $R_1, \\ldots, R_n$ pořadí veličin $X_1, \\ldots, X_n$\n",
    "- $Q_1, \\ldots, Q_n$ pořadí veličin $Y_1, \\ldots, Y_n$\n",
    "\n",
    "Výběrový Spearmanův korelační koeficient je definován jako výběrový Pearsonův korelační koeficient dvojic $[R_1, Q_1]^\\intercal, \\ldots, [R_n, Q_n]^\\intercal$. Za určitých předpokladů jej lze počítat zjednoduššeným vztahem\n",
    "\n",
    "$$\n",
    "r_S = r_{RQ} = 1 - \\frac{6}{n(n^2-1)} \\sum_{i=1}^n (R_i - Q_i)^2.\n",
    "$$\n",
    "\n",
    "Testuje se opět\n",
    "\n",
    "- $H_0: \\rho_S = 0$\n",
    "- $H_A: \\rho_S \\ne 0$ (alternativně jednostranná varianta)\n",
    "\n",
    "Existuje několik variant testů, některé jsou postaveny přímo na hodnotě koeficientu, některé na studentizované statistice či asymptotické normalitě $r_S$. Tento detail proto vynecháme."
   ]
  },
  {
   "cell_type": "code",
   "execution_count": null,
   "metadata": {
    "vscode": {
     "languageId": "r"
    }
   },
   "outputs": [],
   "source": [
    "cor(B201, B211, method='spearman')\n",
    "cor.test(B201, B211, method='spearman')"
   ]
  },
  {
   "attachments": {},
   "cell_type": "markdown",
   "metadata": {},
   "source": [
    "---\n",
    "## Testy normality\n",
    "\n",
    "Uvažujme nezávislý náhodný výběr $X_1, \\ldots, X_n$. Jak už jsme měli možnost poznat, značná část statistického aparátu se opírá o předpoklad normality tohoto výběru, tj. že pochází z normálního rozdělení $N(\\mu, \\sigma^2)$ kde $\\mu$ je nějaká střední hodnota $\\sigma^2$ kladný rozptyl.\n",
    "\n",
    "V praxi je poměrně zásadní nejen zjišťovat, zda naměřená data mají či nemají (přibližně) normální rozdělení, ale i jak moc se případně od tohoto rozdělení vzdalují. Test normality by tedy mělo **vždy** doprovázet i nějaké další zhodnocení, např. jádrové odhady hustoty (KDE) a Q-Q grafy. Současně je třeba mít na paměti, že odstranění několika málo dat způsobujících odchylku od normality může i nemusí být nepřijatelnou manipulací s daty!"
   ]
  },
  {
   "attachments": {},
   "cell_type": "markdown",
   "metadata": {},
   "source": [
    "### [Shapirův-Wilkův test](https://en.wikipedia.org/wiki/Shapiro%E2%80%93Wilk_test) [[R link]](https://www.rdocumentation.org/packages/stats/versions/3.6.2/topics/shapiro.test)\n",
    "\n",
    "- $H_0$: $X_1,\\ldots, X_n$ je výběr z normálního rozdělení\n",
    "- $H_A$: neplatí $H_0$\n",
    "\n",
    "Tento test je obecně nejdoporučovanější z testů normality pro svou sílu. Pokud je rozsah výběru veliký a test vyjde významně, tj. zamítá nulovou hypotézu, není od věci provést ještě posouzení Q-Q plotu. K zamítnutí může totiž dojít i kvůli malému počtu odchylných dat. Typicky to mohou způsobit outliery. Test je známý pro svou citlivost na duplicitní hodnoty v datech, kdy je lépe zvolit test jiný. Naopak patří mezi nejsilnější testy normality, následují jej [Anderson–Darling](https://en.wikipedia.org/wiki/Anderson%E2%80%93Darling_test), [Kolmogorov–Smirnov](https://en.wikipedia.org/wiki/Kolmogorov%E2%80%93Smirnov_test), [Lilliefors](https://en.wikipedia.org/wiki/Lilliefors_test) aj."
   ]
  },
  {
   "cell_type": "code",
   "execution_count": null,
   "metadata": {
    "vscode": {
     "languageId": "r"
    }
   },
   "outputs": [],
   "source": [
    "shapiro.test(genderweight[genderweight$group==\"M\",]$weight)  # brute alternative to subset()"
   ]
  },
  {
   "attachments": {},
   "cell_type": "markdown",
   "metadata": {},
   "source": [
    "### [Kolmogorovovův-Smirnovův (KS) test](https://en.wikipedia.org/wiki/Kolmogorov%E2%80%93Smirnov_test) [[R link]](https://www.rdocumentation.org/packages/stats/versions/3.6.2/topics/ks.test)\n",
    "\n",
    "KS test je poněkud obecnějším testem, a sice *testem dobré shody*. Uvažuje hypotézy\n",
    "\n",
    "- $H_0$: $X_1,\\ldots, X_n$ má spojitou distribuční funkci $F$ (např. normální)\n",
    "- $H_A$: neplatí $H_0$\n",
    "\n",
    "Testuje se, zda náhodný výběr odpovídá konkrétnímu vybranému rozdělení s danými parametry. To znamená, že například při testování normality musíme nulovou hypotézu definovat včetně parametrů. Většinou se použijí bodové odhady z výběru, což má ovšem jistá úskalí (vygooglujte si např. [Lillieforsův test](https://en.wikipedia.org/wiki/Lilliefors_test)). Tato problematika je již za hranicí BI-PRS."
   ]
  },
  {
   "cell_type": "code",
   "execution_count": null,
   "metadata": {
    "vscode": {
     "languageId": "r"
    }
   },
   "outputs": [],
   "source": [
    "maleweight <- subset(genderweight, genderweight$group==\"M\")\n",
    "ks.test(maleweight$weight, \"pnorm\", mean(maleweight$weight), sd(maleweight$weight))"
   ]
  },
  {
   "attachments": {},
   "cell_type": "markdown",
   "metadata": {},
   "source": [
    "### [Jarque-Berúv test](https://en.wikipedia.org/wiki/Jarque%E2%80%93Bera_test) [[R link]](https://www.rdocumentation.org/packages/tseries/versions/0.10-51/topics/jarque.bera.test)\n",
    "\n",
    "Díky snadné implementaci poměrně populární test s hypotézami\n",
    "\n",
    "- $H_0$: $X_1,\\ldots, X_n$ je výběr z normálního rozdělení\n",
    "- $H_A$: neplatí $H_0$\n",
    "\n",
    "Test je založen na statistice ověřující, zda má výběr šikmost a špičatost shodnou s normálním rozdělením. JB test se vcelku často používá na analýzu reziduí lineární regrese a časořadových modelů. Test je méně silný než Shapiro-Wilk i než většina ostatních testů."
   ]
  },
  {
   "cell_type": "code",
   "execution_count": null,
   "metadata": {
    "vscode": {
     "languageId": "r"
    }
   },
   "outputs": [],
   "source": [
    "library(\"tseries\")\n",
    "jarque.bera.test(maleweight$weight)"
   ]
  },
  {
   "attachments": {},
   "cell_type": "markdown",
   "metadata": {},
   "source": [
    "---\n",
    "\n",
    "## Závěrem k testům\n",
    "\n",
    "V rámci této přednášky byla představena určitá testová baterie, která ale ani v nejmenším není jakkoliv postačujícím výčtem možných testů. Ve statistice typicky testujeme vše možné - hodnoty regresních koeficientů, korelační koeficienty atd. Je tedy potřeba k problematice volby testů přistupovat zodpovědně, neboť neexistuje žádná jednoduchá \"kuchařka\".\n",
    "\n",
    "Absolutně kritickou součástí statistického testování hypotéz je **správná interpretace**. Je nejen potřeba mít vhodně zdůvodněnou volbu modelu, nasazeného testu, vybrané alternativy, ale i bezchybně interpretovat výsledky testu. Zamítnutí nulové hypotézy neznamená, že tato je nutně nevalidní. Právě tak nezamítnutí neznačí její validitu. Obecně je potřeba se mít na pozoru zejména před jakýmikoliv tendencemi hypotézy přijímat."
   ]
  },
  {
   "attachments": {},
   "cell_type": "markdown",
   "metadata": {},
   "source": [
    "---"
   ]
  },
  {
   "attachments": {},
   "cell_type": "markdown",
   "metadata": {},
   "source": [
    "# Kontingenční tabulky\n",
    "\n",
    "Uvažujme diskrétně rozdělený náhodný vektor $[Y, Z]^\\intercal$ kde $Y\\in\\{1,\\ldots, r\\}$ a $Z\\in\\{1,\\ldots,c\\}$. Buď $n_{ij}$ veličina označující počet případů $[Y=i, Z=j]$. Označme\n",
    "\n",
    "$$\n",
    "p_{ij} = \\operatorname{P}(Y=i, Z=j).\n",
    "$$\n",
    "\n",
    "Matice $(p_{ij})$ je **maticí pravděpodobností** a matici $(n_{ij})$ nazveme **kontingenční tabulkou**. Z obrázku bude patrné značení řádkových či sloupcových **marginálních pravděpodobností** a **marginálních četností**."
   ]
  },
  {
   "attachments": {},
   "cell_type": "markdown",
   "metadata": {},
   "source": [
    "<!-- img src=\"files/matice-konttab.png\" / -->"
   ]
  },
  {
   "attachments": {},
   "cell_type": "markdown",
   "metadata": {},
   "source": [
    "<img src=\"data:image/png;base64,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\" />"
   ]
  },
  {
   "attachments": {},
   "cell_type": "markdown",
   "metadata": {},
   "source": [
    "V praxi odpovídá kontingenční tabulka vztahu dvou znaků rozdělených do kategorií. Typickou kontingenční tabulkou je např. matice záměn v klasifikaci. Samozřejme mohou existovat i tabulky vyšších rozměrů. Pokud budeme sledovat vztah mezi znaky `medikace:ano/ne` a `krevní_tlak:změna/bez změny`, je tabulka 2x2. Pokud přidáme `pohlaví: muži/ženy`, pak bude tabulka 2x2x2 (tj. 2 tabulky po 2 znacích).\n",
    "\n",
    "Statistika používá kontingenční tabulky k analýzám vztahů mezi znaky. Tyto analýzy typicky zahrnují nejen výpočty různých měr (senzitivita, specificita apod.), ale i testování nezávislosti znaků, řádkové homogenity, symetrie apod. Na některé testy se podíváme."
   ]
  },
  {
   "attachments": {},
   "cell_type": "markdown",
   "metadata": {},
   "source": [
    "### Příklad kontingenční tabulky\n",
    "\n",
    "Vezměme si výsledná hodnocení předmětu BI-PST ve dvou semestrech:"
   ]
  },
  {
   "cell_type": "code",
   "execution_count": 12,
   "metadata": {
    "vscode": {
     "languageId": "r"
    }
   },
   "outputs": [
    {
     "data": {
      "text/html": [
       "<table class=\"dataframe\">\n",
       "<caption>A table: 4 × 7 of type dbl</caption>\n",
       "<thead>\n",
       "\t<tr><th></th><th scope=col>A</th><th scope=col>B</th><th scope=col>C</th><th scope=col>D</th><th scope=col>E</th><th scope=col>F</th><th scope=col>Sum</th></tr>\n",
       "</thead>\n",
       "<tbody>\n",
       "\t<tr><th scope=row>B201</th><td>28</td><td> 64</td><td> 62</td><td> 92</td><td> 44</td><td> 52</td><td>342</td></tr>\n",
       "\t<tr><th scope=row>B211</th><td>15</td><td> 49</td><td> 65</td><td> 71</td><td> 41</td><td> 43</td><td>284</td></tr>\n",
       "\t<tr><th scope=row>B221</th><td>30</td><td> 56</td><td> 66</td><td> 99</td><td> 41</td><td> 64</td><td>356</td></tr>\n",
       "\t<tr><th scope=row>Sum</th><td>73</td><td>169</td><td>193</td><td>262</td><td>126</td><td>159</td><td>982</td></tr>\n",
       "</tbody>\n",
       "</table>\n"
      ],
      "text/latex": [
       "A table: 4 × 7 of type dbl\n",
       "\\begin{tabular}{r|lllllll}\n",
       "  & A & B & C & D & E & F & Sum\\\\\n",
       "\\hline\n",
       "\tB201 & 28 &  64 &  62 &  92 &  44 &  52 & 342\\\\\n",
       "\tB211 & 15 &  49 &  65 &  71 &  41 &  43 & 284\\\\\n",
       "\tB221 & 30 &  56 &  66 &  99 &  41 &  64 & 356\\\\\n",
       "\tSum & 73 & 169 & 193 & 262 & 126 & 159 & 982\\\\\n",
       "\\end{tabular}\n"
      ],
      "text/markdown": [
       "\n",
       "A table: 4 × 7 of type dbl\n",
       "\n",
       "| <!--/--> | A | B | C | D | E | F | Sum |\n",
       "|---|---|---|---|---|---|---|---|\n",
       "| B201 | 28 |  64 |  62 |  92 |  44 |  52 | 342 |\n",
       "| B211 | 15 |  49 |  65 |  71 |  41 |  43 | 284 |\n",
       "| B221 | 30 |  56 |  66 |  99 |  41 |  64 | 356 |\n",
       "| Sum | 73 | 169 | 193 | 262 | 126 | 159 | 982 |\n",
       "\n"
      ],
      "text/plain": [
       "     A  B   C   D   E   F   Sum\n",
       "B201 28  64  62  92  44  52 342\n",
       "B211 15  49  65  71  41  43 284\n",
       "B221 30  56  66  99  41  64 356\n",
       "Sum  73 169 193 262 126 159 982"
      ]
     },
     "metadata": {},
     "output_type": "display_data"
    }
   ],
   "source": [
    "B221 <- c(30, 56, 66, 99, 41, 64)\n",
    "B211 <- c(15, 49, 65, 71, 41, 43)\n",
    "B201 <- c(28, 64, 62, 92, 44, 52)\n",
    "pst <- rbind(B201, B211, B221)\n",
    "colnames(pst) = LETTERS[1:6]\n",
    "\n",
    "pst_ct <- as.table(pst)\n",
    "addmargins(pst_ct)"
   ]
  },
  {
   "attachments": {},
   "cell_type": "markdown",
   "metadata": {},
   "source": [
    "Tabulku pravděpodobností pomocí R dostaneme následovně:"
   ]
  },
  {
   "cell_type": "code",
   "execution_count": 13,
   "metadata": {
    "vscode": {
     "languageId": "r"
    }
   },
   "outputs": [
    {
     "data": {
      "text/html": [
       "<table class=\"dataframe\">\n",
       "<caption>A table: 4 × 7 of type dbl</caption>\n",
       "<thead>\n",
       "\t<tr><th></th><th scope=col>A</th><th scope=col>B</th><th scope=col>C</th><th scope=col>D</th><th scope=col>E</th><th scope=col>F</th><th scope=col>Sum</th></tr>\n",
       "</thead>\n",
       "<tbody>\n",
       "\t<tr><th scope=row>B201</th><td>0.02851324</td><td>0.06517312</td><td>0.06313646</td><td>0.09368635</td><td>0.04480652</td><td>0.05295316</td><td>0.3482688</td></tr>\n",
       "\t<tr><th scope=row>B211</th><td>0.01527495</td><td>0.04989817</td><td>0.06619145</td><td>0.07230143</td><td>0.04175153</td><td>0.04378819</td><td>0.2892057</td></tr>\n",
       "\t<tr><th scope=row>B221</th><td>0.03054990</td><td>0.05702648</td><td>0.06720978</td><td>0.10081466</td><td>0.04175153</td><td>0.06517312</td><td>0.3625255</td></tr>\n",
       "\t<tr><th scope=row>Sum</th><td>0.07433809</td><td>0.17209776</td><td>0.19653768</td><td>0.26680244</td><td>0.12830957</td><td>0.16191446</td><td>1.0000000</td></tr>\n",
       "</tbody>\n",
       "</table>\n"
      ],
      "text/latex": [
       "A table: 4 × 7 of type dbl\n",
       "\\begin{tabular}{r|lllllll}\n",
       "  & A & B & C & D & E & F & Sum\\\\\n",
       "\\hline\n",
       "\tB201 & 0.02851324 & 0.06517312 & 0.06313646 & 0.09368635 & 0.04480652 & 0.05295316 & 0.3482688\\\\\n",
       "\tB211 & 0.01527495 & 0.04989817 & 0.06619145 & 0.07230143 & 0.04175153 & 0.04378819 & 0.2892057\\\\\n",
       "\tB221 & 0.03054990 & 0.05702648 & 0.06720978 & 0.10081466 & 0.04175153 & 0.06517312 & 0.3625255\\\\\n",
       "\tSum & 0.07433809 & 0.17209776 & 0.19653768 & 0.26680244 & 0.12830957 & 0.16191446 & 1.0000000\\\\\n",
       "\\end{tabular}\n"
      ],
      "text/markdown": [
       "\n",
       "A table: 4 × 7 of type dbl\n",
       "\n",
       "| <!--/--> | A | B | C | D | E | F | Sum |\n",
       "|---|---|---|---|---|---|---|---|\n",
       "| B201 | 0.02851324 | 0.06517312 | 0.06313646 | 0.09368635 | 0.04480652 | 0.05295316 | 0.3482688 |\n",
       "| B211 | 0.01527495 | 0.04989817 | 0.06619145 | 0.07230143 | 0.04175153 | 0.04378819 | 0.2892057 |\n",
       "| B221 | 0.03054990 | 0.05702648 | 0.06720978 | 0.10081466 | 0.04175153 | 0.06517312 | 0.3625255 |\n",
       "| Sum | 0.07433809 | 0.17209776 | 0.19653768 | 0.26680244 | 0.12830957 | 0.16191446 | 1.0000000 |\n",
       "\n"
      ],
      "text/plain": [
       "     A          B          C          D          E          F         \n",
       "B201 0.02851324 0.06517312 0.06313646 0.09368635 0.04480652 0.05295316\n",
       "B211 0.01527495 0.04989817 0.06619145 0.07230143 0.04175153 0.04378819\n",
       "B221 0.03054990 0.05702648 0.06720978 0.10081466 0.04175153 0.06517312\n",
       "Sum  0.07433809 0.17209776 0.19653768 0.26680244 0.12830957 0.16191446\n",
       "     Sum      \n",
       "B201 0.3482688\n",
       "B211 0.2892057\n",
       "B221 0.3625255\n",
       "Sum  1.0000000"
      ]
     },
     "metadata": {},
     "output_type": "display_data"
    }
   ],
   "source": [
    "probs <- prop.table(pst_ct)\n",
    "addmargins(probs)"
   ]
  },
  {
   "attachments": {},
   "cell_type": "markdown",
   "metadata": {},
   "source": [
    "**Mosaic plot** vizuálně napoví, jak je to s proporcemi jednotlivých známek:"
   ]
  },
  {
   "cell_type": "code",
   "execution_count": 14,
   "metadata": {
    "vscode": {
     "languageId": "r"
    }
   },
   "outputs": [
    {
     "data": {
      "image/png": "[encoded data removed]",
      "text/plain": [
       "Plot with title “pst_ct”"
      ]
     },
     "metadata": {
      "image/png": {
       "height": 420,
       "width": 420
      }
     },
     "output_type": "display_data"
    }
   ],
   "source": [
    "mosaicplot(pst_ct, color=T)           "
   ]
  },
  {
   "attachments": {},
   "cell_type": "markdown",
   "metadata": {},
   "source": [
    "### [Pearsonův $\\chi^2$ test nezávislosti](https://en.wikipedia.org/wiki/Chi-squared_test) [[R link]](https://www.rdocumentation.org/packages/stats/versions/3.6.2/topics/chisq.test)\n",
    "\n",
    "- $H_0$: $p_{ij} = p_{i\\cdot} p_{\\cdot j}, \\qquad i=1,\\ldots,r; j=1,\\ldots, c$\n",
    "- $H_A$: neplatí $H_0$\n",
    "\n",
    "Pearsonův $\\chi^2$ test nezávislosti testuje, zda pro všechny dvojice $(i,j)$ platí $p_{ij} = p_{i\\cdot} p_{\\cdot j}$. Vypočtená testová statistika má $\\chi^2$ rozdělení, k čemuž je ovšem potřeba, aby platilo, že pro všechna $(i,j)$ jsou teoretické četnosti $\\frac{n_{i\\cdot} n_{\\cdot j}}{n}\\geq 5$. Pokud podmínka není splněna, je lepší použít Fisherův faktoriálový test - viz níže.\n",
    "\n",
    "Testová statistika má podobu\n",
    "\n",
    "$$\n",
    "\\chi^2 = n \\sum_{i=1}^r \\sum_{j=1}^c \\frac{n_{ij}^2}{n_{i\\cdot} n_{\\cdot j}} -n.\n",
    "$$\n",
    "\n",
    "Pokud $\\chi^2 \\geq \\chi_{(r-1)(c-1)}^2(\\alpha)$, nulová hypotéza se zamítne."
   ]
  },
  {
   "attachments": {},
   "cell_type": "markdown",
   "metadata": {},
   "source": [
    "### Test homogenity multinomických rozdělení\n",
    "\n",
    "- $H_0$: řádkové pravděpodobnosti $p_{i1}, \\ldots, p_{i\\cdot}$ nezávisí na $i$\n",
    "- $H_A$: neplatí $H_0$\n",
    "\n",
    "Tento test vychází z myšlenky, že každý řádek $i\\in\\{1,\\ldots, r\\}$ má multinomické rozdělení\n",
    "\n",
    "$$\n",
    "\\mathrm{Multi}(n_{i\\cdot}, p_{i1},\\ldots,p_{ic}).\n",
    "$$\n",
    "\n",
    "Nulová hypotéza říká, že pravděpodobnosti $p_{i1},\\ldots,p_{ic}$ **nezávisí** na řádkovém indexu, neboli že každý řádek je realizací téhož rozdělení. Tento test se provádí stejně, jako Pearsonův $\\chi^2$ test nezávislosti výše."
   ]
  },
  {
   "cell_type": "code",
   "execution_count": 15,
   "metadata": {
    "vscode": {
     "languageId": "r"
    }
   },
   "outputs": [
    {
     "data": {
      "text/plain": [
       "\n",
       "\tPearson's Chi-squared test\n",
       "\n",
       "data:  pst_ct\n",
       "X-squared = 8.1734, df = 10, p-value = 0.6119\n"
      ]
     },
     "metadata": {},
     "output_type": "display_data"
    }
   ],
   "source": [
    "out <- chisq.test(pst_ct)\n",
    "out"
   ]
  },
  {
   "attachments": {},
   "cell_type": "markdown",
   "metadata": {},
   "source": [
    "<br />\n",
    "Můžeme i snadno spočítat, jaké při nezávislosti byly očekávané četnosti. Pozorované četnosti jsou"
   ]
  },
  {
   "cell_type": "code",
   "execution_count": 16,
   "metadata": {
    "vscode": {
     "languageId": "r"
    }
   },
   "outputs": [
    {
     "data": {
      "text/html": [
       "<table class=\"dataframe\">\n",
       "<caption>A table: 4 × 7 of type dbl</caption>\n",
       "<thead>\n",
       "\t<tr><th></th><th scope=col>A</th><th scope=col>B</th><th scope=col>C</th><th scope=col>D</th><th scope=col>E</th><th scope=col>F</th><th scope=col>Sum</th></tr>\n",
       "</thead>\n",
       "<tbody>\n",
       "\t<tr><th scope=row>B201</th><td>28</td><td> 64</td><td> 62</td><td> 92</td><td> 44</td><td> 52</td><td>342</td></tr>\n",
       "\t<tr><th scope=row>B211</th><td>15</td><td> 49</td><td> 65</td><td> 71</td><td> 41</td><td> 43</td><td>284</td></tr>\n",
       "\t<tr><th scope=row>B221</th><td>30</td><td> 56</td><td> 66</td><td> 99</td><td> 41</td><td> 64</td><td>356</td></tr>\n",
       "\t<tr><th scope=row>Sum</th><td>73</td><td>169</td><td>193</td><td>262</td><td>126</td><td>159</td><td>982</td></tr>\n",
       "</tbody>\n",
       "</table>\n"
      ],
      "text/latex": [
       "A table: 4 × 7 of type dbl\n",
       "\\begin{tabular}{r|lllllll}\n",
       "  & A & B & C & D & E & F & Sum\\\\\n",
       "\\hline\n",
       "\tB201 & 28 &  64 &  62 &  92 &  44 &  52 & 342\\\\\n",
       "\tB211 & 15 &  49 &  65 &  71 &  41 &  43 & 284\\\\\n",
       "\tB221 & 30 &  56 &  66 &  99 &  41 &  64 & 356\\\\\n",
       "\tSum & 73 & 169 & 193 & 262 & 126 & 159 & 982\\\\\n",
       "\\end{tabular}\n"
      ],
      "text/markdown": [
       "\n",
       "A table: 4 × 7 of type dbl\n",
       "\n",
       "| <!--/--> | A | B | C | D | E | F | Sum |\n",
       "|---|---|---|---|---|---|---|---|\n",
       "| B201 | 28 |  64 |  62 |  92 |  44 |  52 | 342 |\n",
       "| B211 | 15 |  49 |  65 |  71 |  41 |  43 | 284 |\n",
       "| B221 | 30 |  56 |  66 |  99 |  41 |  64 | 356 |\n",
       "| Sum | 73 | 169 | 193 | 262 | 126 | 159 | 982 |\n",
       "\n"
      ],
      "text/plain": [
       "     A  B   C   D   E   F   Sum\n",
       "B201 28  64  62  92  44  52 342\n",
       "B211 15  49  65  71  41  43 284\n",
       "B221 30  56  66  99  41  64 356\n",
       "Sum  73 169 193 262 126 159 982"
      ]
     },
     "metadata": {},
     "output_type": "display_data"
    }
   ],
   "source": [
    "addmargins(out$observed)"
   ]
  },
  {
   "attachments": {},
   "cell_type": "markdown",
   "metadata": {},
   "source": [
    "Očekávané nám R spočítalo následovně:"
   ]
  },
  {
   "cell_type": "code",
   "execution_count": 17,
   "metadata": {
    "vscode": {
     "languageId": "r"
    }
   },
   "outputs": [
    {
     "data": {
      "text/html": [
       "<table class=\"dataframe\">\n",
       "<caption>A matrix: 4 × 7 of type dbl</caption>\n",
       "<thead>\n",
       "\t<tr><th></th><th scope=col>A</th><th scope=col>B</th><th scope=col>C</th><th scope=col>D</th><th scope=col>E</th><th scope=col>F</th><th scope=col>Sum</th></tr>\n",
       "</thead>\n",
       "<tbody>\n",
       "\t<tr><th scope=row>B201</th><td>25.42363</td><td> 58.85743</td><td> 67.21589</td><td> 91.24644</td><td> 43.88187</td><td> 55.37475</td><td>342</td></tr>\n",
       "\t<tr><th scope=row>B211</th><td>21.11202</td><td> 48.87576</td><td> 55.81670</td><td> 75.77189</td><td> 36.43992</td><td> 45.98371</td><td>284</td></tr>\n",
       "\t<tr><th scope=row>B221</th><td>26.46436</td><td> 61.26680</td><td> 69.96741</td><td> 94.98167</td><td> 45.67821</td><td> 57.64155</td><td>356</td></tr>\n",
       "\t<tr><th scope=row>Sum</th><td>73.00000</td><td>169.00000</td><td>193.00000</td><td>262.00000</td><td>126.00000</td><td>159.00000</td><td>982</td></tr>\n",
       "</tbody>\n",
       "</table>\n"
      ],
      "text/latex": [
       "A matrix: 4 × 7 of type dbl\n",
       "\\begin{tabular}{r|lllllll}\n",
       "  & A & B & C & D & E & F & Sum\\\\\n",
       "\\hline\n",
       "\tB201 & 25.42363 &  58.85743 &  67.21589 &  91.24644 &  43.88187 &  55.37475 & 342\\\\\n",
       "\tB211 & 21.11202 &  48.87576 &  55.81670 &  75.77189 &  36.43992 &  45.98371 & 284\\\\\n",
       "\tB221 & 26.46436 &  61.26680 &  69.96741 &  94.98167 &  45.67821 &  57.64155 & 356\\\\\n",
       "\tSum & 73.00000 & 169.00000 & 193.00000 & 262.00000 & 126.00000 & 159.00000 & 982\\\\\n",
       "\\end{tabular}\n"
      ],
      "text/markdown": [
       "\n",
       "A matrix: 4 × 7 of type dbl\n",
       "\n",
       "| <!--/--> | A | B | C | D | E | F | Sum |\n",
       "|---|---|---|---|---|---|---|---|\n",
       "| B201 | 25.42363 |  58.85743 |  67.21589 |  91.24644 |  43.88187 |  55.37475 | 342 |\n",
       "| B211 | 21.11202 |  48.87576 |  55.81670 |  75.77189 |  36.43992 |  45.98371 | 284 |\n",
       "| B221 | 26.46436 |  61.26680 |  69.96741 |  94.98167 |  45.67821 |  57.64155 | 356 |\n",
       "| Sum | 73.00000 | 169.00000 | 193.00000 | 262.00000 | 126.00000 | 159.00000 | 982 |\n",
       "\n"
      ],
      "text/plain": [
       "     A        B         C         D         E         F         Sum\n",
       "B201 25.42363  58.85743  67.21589  91.24644  43.88187  55.37475 342\n",
       "B211 21.11202  48.87576  55.81670  75.77189  36.43992  45.98371 284\n",
       "B221 26.46436  61.26680  69.96741  94.98167  45.67821  57.64155 356\n",
       "Sum  73.00000 169.00000 193.00000 262.00000 126.00000 159.00000 982"
      ]
     },
     "metadata": {},
     "output_type": "display_data"
    }
   ],
   "source": [
    "addmargins(out$expected)"
   ]
  },
  {
   "attachments": {},
   "cell_type": "markdown",
   "metadata": {},
   "source": [
    "Velmi jednoduše řečeno, pokud by byly znaky nezávislé, pak pravděpodobnosti $p_{\\cdot j}$ odpovídaly pravděpodobnostem jednotlivých známek a to nezávisle na semestru. Muselo by tedy rovněž platit, že pro semestr $i$ a známku $j$ je $n_{ij} = p_{\\cdot j} n_{i \\cdot}$ (srov. podmínku pro použitelnost testu!). Například pro $n_{11} = n_{\\text{B201 A}}$:"
   ]
  },
  {
   "attachments": {},
   "cell_type": "markdown",
   "metadata": {},
   "source": [
    "Důležité je, že všechny očekávané četnosti, tedy odhady teoretických četností, jsou $\\geq 5$, jak bylo požadováno."
   ]
  },
  {
   "attachments": {},
   "cell_type": "markdown",
   "metadata": {},
   "source": [
    "### [Fisherův faktoriálový (též exaktní) test](https://en.wikipedia.org/wiki/Fisher%27s_exact_test) [[R link]](https://www.rdocumentation.org/packages/stats/versions/3.6.2/topics/fisher.test)\n",
    "\n",
    "- $H_0$: $p_{ij} = p_{i\\cdot} p_{\\cdot j}, \\qquad i=1,\\ldots,r; j=1,\\ldots, c$\n",
    "- $H_A$: neplatí $H_0$\n",
    "\n",
    "Tento test používáme, pokud četnosti v tabulce příliš malé. Původně byl navržen pro čtyřpolní (2x2) tabulky, nicméně lze jej použít i pro tabulky větší. To má určitá omezení, viz nápověda.\n",
    "\n",
    "Fisherův faktoriálový test je zatížen jistými [kontroverzemi](https://en.wikipedia.org/wiki/Fisher%27s_exact_test#Controversies), mj. to, že jeho hladina bývá mnohem nižší, než tolerovaná pravděpodobnost chyby prvního druhu. Pro větší data je rovněž výpočetně náročný."
   ]
  },
  {
   "cell_type": "raw",
   "metadata": {},
   "source": [
    "fisher.test(table, simulate.p.value=T)"
   ]
  },
  {
   "attachments": {},
   "cell_type": "markdown",
   "metadata": {},
   "source": [
    "### [McNemarův test symetrie](https://en.wikipedia.org/wiki/McNemar%27s_test) [[R link]](https://www.rdocumentation.org/packages/stats/versions/3.6.2/topics/mcnemar.test)\n",
    "\n",
    "Test pro tabulky 2x2 s hypotézami o symetrii\n",
    "- $H_0$: $p(12) = p(21)$\n",
    "- $H_A$: $p(12) \\ne p(21)$\n",
    "\n",
    "Typicky jej používáme pro porovnání výsledků dvou testů na témže vzorku, nebo na zjištění, zda určitý zásah vyvolal změnu. `mcnemar.test()` v R obsahuje i Bowkerovo rozšíření na větší než čtyřpolní tabulky.\n",
    "\n",
    "Uvažujme situační studii 100 dětí ve věku 14 let. Sledujeme, zda uběhnou 1500m v čase do 6 minut. Měření provádíme nejprve bez předchozí přípravy a následně po sedmidenním tréninku. Výsledkem shrnuje následující kontingenční tabulka:"
   ]
  },
  {
   "cell_type": "code",
   "execution_count": 18,
   "metadata": {
    "vscode": {
     "languageId": "r"
    }
   },
   "outputs": [
    {
     "data": {
      "text/html": [
       "<table class=\"dataframe\">\n",
       "<caption>A table: 3 × 3 of type dbl</caption>\n",
       "<thead>\n",
       "\t<tr><th></th><th scope=col>&lt; 6min (training)</th><th scope=col>&gt;= 6min (training)</th><th scope=col>Sum</th></tr>\n",
       "</thead>\n",
       "<tbody>\n",
       "\t<tr><th scope=row>&lt; 6min (w/o train.)</th><td>32</td><td> 5</td><td> 37</td></tr>\n",
       "\t<tr><th scope=row>&gt;= 6min (w/o train.)</th><td>15</td><td>48</td><td> 63</td></tr>\n",
       "\t<tr><th scope=row>Sum</th><td>47</td><td>53</td><td>100</td></tr>\n",
       "</tbody>\n",
       "</table>\n"
      ],
      "text/latex": [
       "A table: 3 × 3 of type dbl\n",
       "\\begin{tabular}{r|lll}\n",
       "  & < 6min (training) & >= 6min (training) & Sum\\\\\n",
       "\\hline\n",
       "\t< 6min (w/o train.) & 32 &  5 &  37\\\\\n",
       "\t>= 6min (w/o train.) & 15 & 48 &  63\\\\\n",
       "\tSum & 47 & 53 & 100\\\\\n",
       "\\end{tabular}\n"
      ],
      "text/markdown": [
       "\n",
       "A table: 3 × 3 of type dbl\n",
       "\n",
       "| <!--/--> | &lt; 6min (training) | &gt;= 6min (training) | Sum |\n",
       "|---|---|---|---|\n",
       "| &lt; 6min (w/o train.) | 32 |  5 |  37 |\n",
       "| &gt;= 6min (w/o train.) | 15 | 48 |  63 |\n",
       "| Sum | 47 | 53 | 100 |\n",
       "\n"
      ],
      "text/plain": [
       "                     < 6min (training) >= 6min (training) Sum\n",
       "< 6min (w/o train.)  32                 5                  37\n",
       ">= 6min (w/o train.) 15                48                  63\n",
       "Sum                  47                53                 100"
      ]
     },
     "metadata": {},
     "output_type": "display_data"
    }
   ],
   "source": [
    "mat <- rbind(c(32, 5), \n",
    "             c(15, 48))\n",
    "colnames(mat) = c(\"< 6min (training)\", \">= 6min (training)\")\n",
    "rownames(mat) = c(\"< 6min (w/o train.)\", \">= 6min (w/o train.)\")\n",
    "\n",
    "ct <- as.table(mat)\n",
    "addmargins(ct)"
   ]
  },
  {
   "attachments": {},
   "cell_type": "markdown",
   "metadata": {},
   "source": [
    "Z tabulky je patrné, že určitá část dětí si výkonnost udržela, několik dětí se přesunulo do kategorie pod 6 minut a pár dětí naopak, např. v důsledku tréninkové únavy či excesivního výsledku v prvním měření. Cílem je zjistit, zda se trénink způsobil statisticky významný rozdíl:"
   ]
  },
  {
   "cell_type": "code",
   "execution_count": 19,
   "metadata": {
    "vscode": {
     "languageId": "r"
    }
   },
   "outputs": [
    {
     "data": {
      "text/plain": [
       "\n",
       "\tMcNemar's Chi-squared test with continuity correction\n",
       "\n",
       "data:  ct\n",
       "McNemar's chi-squared = 4.05, df = 1, p-value = 0.04417\n"
      ]
     },
     "metadata": {},
     "output_type": "display_data"
    }
   ],
   "source": [
    "mcnemar.test(ct)"
   ]
  },
  {
   "attachments": {},
   "cell_type": "markdown",
   "metadata": {},
   "source": [
    "---\n",
    "---\n"
   ]
  }
 ],
 "metadata": {
  "kernelspec": {
   "display_name": "R",
   "language": "R",
   "name": "ir"
  },
  "language_info": {
   "codemirror_mode": "r",
   "file_extension": ".r",
   "mimetype": "text/x-r-source",
   "name": "R",
   "pygments_lexer": "r",
   "version": "4.1.2"
  }
 },
 "nbformat": 4,
 "nbformat_minor": 4
}
